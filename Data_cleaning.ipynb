{
 "cells": [
  {
   "cell_type": "code",
   "execution_count": 1,
   "id": "372cd369-a0cd-4523-bb72-8b41dbe7970a",
   "metadata": {},
   "outputs": [],
   "source": [
    "import pandas as pd"
   ]
  },
  {
   "cell_type": "code",
   "execution_count": 114,
   "id": "afa8b725-94dc-4311-a68e-5057508603a2",
   "metadata": {},
   "outputs": [],
   "source": [
    "df=pd.read_csv(\"StudentsPerformance.csv\")"
   ]
  },
  {
   "cell_type": "markdown",
   "id": "792d38ad-08f6-4f68-ae12-8bc62814ac16",
   "metadata": {},
   "source": [
    "## Data type check"
   ]
  },
  {
   "cell_type": "code",
   "execution_count": 115,
   "id": "22d23df0-0d3c-4ac8-8e38-5f191a6ba966",
   "metadata": {},
   "outputs": [
    {
     "name": "stdout",
     "output_type": "stream",
     "text": [
      "<class 'pandas.core.frame.DataFrame'>\n",
      "RangeIndex: 1000 entries, 0 to 999\n",
      "Data columns (total 8 columns):\n",
      " #   Column                       Non-Null Count  Dtype \n",
      "---  ------                       --------------  ----- \n",
      " 0   gender                       1000 non-null   object\n",
      " 1   race/ethnicity               1000 non-null   object\n",
      " 2   parental level of education  1000 non-null   object\n",
      " 3   lunch                        1000 non-null   object\n",
      " 4   test preparation course      1000 non-null   object\n",
      " 5   math score                   1000 non-null   int64 \n",
      " 6   reading score                1000 non-null   int64 \n",
      " 7   writing score                1000 non-null   int64 \n",
      "dtypes: int64(3), object(5)\n",
      "memory usage: 62.6+ KB\n",
      "None\n"
     ]
    }
   ],
   "source": [
    "print(df.info())"
   ]
  },
  {
   "cell_type": "markdown",
   "id": "b89a4737-b52f-4c74-b20d-d273205c6e98",
   "metadata": {},
   "source": [
    "## Null value count"
   ]
  },
  {
   "cell_type": "code",
   "execution_count": 116,
   "id": "6e9b0f34-1021-4bc6-9e3b-b2537d5e0e60",
   "metadata": {},
   "outputs": [
    {
     "name": "stdout",
     "output_type": "stream",
     "text": [
      "gender                         0\n",
      "race/ethnicity                 0\n",
      "parental level of education    0\n",
      "lunch                          0\n",
      "test preparation course        0\n",
      "math score                     0\n",
      "reading score                  0\n",
      "writing score                  0\n",
      "dtype: int64\n"
     ]
    }
   ],
   "source": [
    "print(df.isna().sum())"
   ]
  },
  {
   "cell_type": "markdown",
   "id": "39c055b5-755e-4995-873c-add8a9809f9b",
   "metadata": {},
   "source": [
    "## Duplicate rows count"
   ]
  },
  {
   "cell_type": "code",
   "execution_count": 117,
   "id": "0e7b4763-e237-4c0d-9ed8-44cf78fa4b13",
   "metadata": {},
   "outputs": [
    {
     "name": "stdout",
     "output_type": "stream",
     "text": [
      "0\n"
     ]
    }
   ],
   "source": [
    "print(df.duplicated().sum())"
   ]
  },
  {
   "cell_type": "markdown",
   "id": "5283fafe-300d-4d75-a933-b6fac2e5615a",
   "metadata": {},
   "source": [
    "## Column checks for rename and replacement of values"
   ]
  },
  {
   "cell_type": "markdown",
   "id": "134e3b7d-4bd9-4ec3-ab89-9a909850f63c",
   "metadata": {},
   "source": [
    "### Column 1"
   ]
  },
  {
   "cell_type": "code",
   "execution_count": 118,
   "id": "67869f8f-4edc-4fc5-9a35-fba34522116f",
   "metadata": {},
   "outputs": [
    {
     "name": "stdout",
     "output_type": "stream",
     "text": [
      "['female' 'male']\n"
     ]
    }
   ],
   "source": [
    "print(df[\"gender\"].unique())"
   ]
  },
  {
   "cell_type": "code",
   "execution_count": 119,
   "id": "ce5614d7-8997-4131-a24c-10d7e69fbb38",
   "metadata": {},
   "outputs": [],
   "source": [
    "df[\"gender\"] = df[\"gender\"].replace({\n",
    "    'female':'F',\n",
    "    'male':'M'\n",
    "})"
   ]
  },
  {
   "cell_type": "code",
   "execution_count": 120,
   "id": "7758c407-526c-497f-a539-feb1ee82745c",
   "metadata": {},
   "outputs": [],
   "source": [
    "df.rename(columns={\"gender\": \"Gender\"}, inplace=True)"
   ]
  },
  {
   "cell_type": "code",
   "execution_count": 121,
   "id": "5098840c-d14d-48bb-af84-1b85176ce759",
   "metadata": {},
   "outputs": [
    {
     "name": "stdout",
     "output_type": "stream",
     "text": [
      "['F' 'M']\n"
     ]
    }
   ],
   "source": [
    "print(df[\"Gender\"].unique())"
   ]
  },
  {
   "cell_type": "markdown",
   "id": "ae0c2301-6993-4061-8cfa-57fc6b9b328d",
   "metadata": {},
   "source": [
    "### Column 2"
   ]
  },
  {
   "cell_type": "code",
   "execution_count": 122,
   "id": "3d0426d6-c934-44cb-8eca-3b2ef09c754a",
   "metadata": {},
   "outputs": [
    {
     "name": "stdout",
     "output_type": "stream",
     "text": [
      "race/ethnicity\n",
      "group C    319\n",
      "group D    262\n",
      "group B    190\n",
      "group E    140\n",
      "group A     89\n",
      "Name: count, dtype: int64\n"
     ]
    }
   ],
   "source": [
    "print(df[\"race/ethnicity\"].value_counts())"
   ]
  },
  {
   "cell_type": "code",
   "execution_count": 123,
   "id": "e32566d9-c028-4bf3-a682-8dc3c83eb5ed",
   "metadata": {},
   "outputs": [],
   "source": [
    "df.rename(columns={\"race/ethnicity\": \"Group\"}, inplace=True)"
   ]
  },
  {
   "cell_type": "code",
   "execution_count": 124,
   "id": "5bae924f-993e-497c-a463-877d21ab3635",
   "metadata": {},
   "outputs": [],
   "source": [
    "df[\"Group\"]=df[\"Group\"].replace({\n",
    "  'group B':'B',\n",
    "  'group C':'C',\n",
    "  'group A':'A',\n",
    "  'group D':'D',\n",
    "  'group E':'E'  \n",
    "})"
   ]
  },
  {
   "cell_type": "code",
   "execution_count": 125,
   "id": "65a9a557-e3ff-4c4b-89bb-25b539b61b8f",
   "metadata": {},
   "outputs": [
    {
     "name": "stdout",
     "output_type": "stream",
     "text": [
      "Group\n",
      "C    319\n",
      "D    262\n",
      "B    190\n",
      "E    140\n",
      "A     89\n",
      "Name: count, dtype: int64\n"
     ]
    }
   ],
   "source": [
    "print(df[\"Group\"].value_counts())"
   ]
  },
  {
   "cell_type": "markdown",
   "id": "2561a8a0-aaf5-4469-a30e-456020589b63",
   "metadata": {},
   "source": [
    "### Column 3"
   ]
  },
  {
   "cell_type": "code",
   "execution_count": 126,
   "id": "de2d2664-9641-4c8a-b59f-842872bbb36d",
   "metadata": {},
   "outputs": [
    {
     "name": "stdout",
     "output_type": "stream",
     "text": [
      "parental level of education\n",
      "some college          226\n",
      "associate's degree    222\n",
      "high school           196\n",
      "some high school      179\n",
      "bachelor's degree     118\n",
      "master's degree        59\n",
      "Name: count, dtype: int64\n"
     ]
    }
   ],
   "source": [
    "print(df[\"parental level of education\"].value_counts())"
   ]
  },
  {
   "cell_type": "code",
   "execution_count": 127,
   "id": "86ed0391-3a93-433c-87f3-1ab152a8812c",
   "metadata": {},
   "outputs": [],
   "source": [
    "df.rename(columns={\"parental level of education\": \"Parents_education\"}, inplace=True)"
   ]
  },
  {
   "cell_type": "code",
   "execution_count": 128,
   "id": "ddb555ed-2be2-4be4-98f5-9ff2accb1051",
   "metadata": {},
   "outputs": [],
   "source": [
    "df[\"Parents_education\"]=df[\"Parents_education\"].replace({\n",
    "    \"some college\":\"College\",\n",
    "    \"associate's degree\":\"Associate's degree\",\n",
    "    \"high school\":\"High school\",\n",
    "    \"some high school\":\"High school\",\n",
    "    \"bachelor's degree\":\"Bachelor's degree\",\n",
    "    \"master's degree\":\"Master's degree\"  \n",
    "})"
   ]
  },
  {
   "cell_type": "code",
   "execution_count": 129,
   "id": "49aa9ef9-dc59-4b2d-97a2-14944db6fb17",
   "metadata": {},
   "outputs": [
    {
     "data": {
      "text/plain": [
       "Parents_education\n",
       "High school           375\n",
       "College               226\n",
       "Associate's degree    222\n",
       "Bachelor's degree     118\n",
       "Master's degree        59\n",
       "Name: count, dtype: int64"
      ]
     },
     "execution_count": 129,
     "metadata": {},
     "output_type": "execute_result"
    }
   ],
   "source": [
    "df[\"Parents_education\"].value_counts()"
   ]
  },
  {
   "cell_type": "markdown",
   "id": "f1ee0aba-13e3-42bc-a136-af96f7e1cf06",
   "metadata": {},
   "source": [
    "### Column 4"
   ]
  },
  {
   "cell_type": "code",
   "execution_count": 130,
   "id": "694bf2af-f0c5-4d1f-b555-763c8c366eac",
   "metadata": {},
   "outputs": [
    {
     "name": "stdout",
     "output_type": "stream",
     "text": [
      "lunch\n",
      "standard        645\n",
      "free/reduced    355\n",
      "Name: count, dtype: int64\n"
     ]
    }
   ],
   "source": [
    "print(df[\"lunch\"].value_counts())"
   ]
  },
  {
   "cell_type": "code",
   "execution_count": 131,
   "id": "a8be9994-28c1-43a0-b801-c301ca914722",
   "metadata": {},
   "outputs": [],
   "source": [
    "df[\"lunch\"]=df[\"lunch\"].replace({\n",
    "    \"standard\": \"Standard\",\n",
    "    \"free/reduced\": \"Subsidized\"\n",
    "})\n",
    "#Due to lack of context 2nd value is assumed as Subsidized"
   ]
  },
  {
   "cell_type": "code",
   "execution_count": 132,
   "id": "93ae03a4-7bef-4643-b17b-e281b4e9f9af",
   "metadata": {},
   "outputs": [],
   "source": [
    "df.rename(columns={\"lunch\":\"Lunch_type\"},inplace=True)"
   ]
  },
  {
   "cell_type": "code",
   "execution_count": 133,
   "id": "6fc106c3-57a0-45a3-97e1-f6f3ef85149b",
   "metadata": {},
   "outputs": [
    {
     "name": "stdout",
     "output_type": "stream",
     "text": [
      "Lunch_type\n",
      "Standard      645\n",
      "Subsidized    355\n",
      "Name: count, dtype: int64\n"
     ]
    }
   ],
   "source": [
    "print(df[\"Lunch_type\"].value_counts())"
   ]
  },
  {
   "cell_type": "markdown",
   "id": "5dcb1485-00c2-4da7-a3bc-f4376e2f590e",
   "metadata": {},
   "source": [
    "### Column 5"
   ]
  },
  {
   "cell_type": "code",
   "execution_count": 134,
   "id": "0d6fd46a-a14a-40c0-a357-e848ef3a2e7e",
   "metadata": {},
   "outputs": [
    {
     "name": "stdout",
     "output_type": "stream",
     "text": [
      "test preparation course\n",
      "none         642\n",
      "completed    358\n",
      "Name: count, dtype: int64\n"
     ]
    }
   ],
   "source": [
    "print(df[\"test preparation course\"].value_counts())"
   ]
  },
  {
   "cell_type": "code",
   "execution_count": 135,
   "id": "2f0b200d-dc65-4cf8-a9c0-7bc6d4029bbe",
   "metadata": {},
   "outputs": [],
   "source": [
    "df[\"test preparation course\"]=df[\"test preparation course\"].replace({\n",
    "    \"completed\":\"Completed\",\n",
    "    \"none\":\"Not completed\"\n",
    "})"
   ]
  },
  {
   "cell_type": "code",
   "execution_count": 136,
   "id": "36ac6e05-9249-4966-acd2-a20829f03127",
   "metadata": {},
   "outputs": [],
   "source": [
    "df.rename(columns={\"test preparation course\":\"Test_preparation_course\"},inplace=True)"
   ]
  },
  {
   "cell_type": "code",
   "execution_count": 139,
   "id": "fb7afc3f-5833-4763-8ed6-2d0e804bd327",
   "metadata": {},
   "outputs": [
    {
     "name": "stdout",
     "output_type": "stream",
     "text": [
      "Test_preparation_course\n",
      "Not completed    642\n",
      "Completed        358\n",
      "Name: count, dtype: int64\n"
     ]
    }
   ],
   "source": [
    "print(df[\"Test_preparation_course\"].value_counts())"
   ]
  },
  {
   "cell_type": "markdown",
   "id": "2191832f-6801-4277-afe3-56aba7f33433",
   "metadata": {},
   "source": [
    "### Remaining columns"
   ]
  },
  {
   "cell_type": "code",
   "execution_count": 140,
   "id": "a977661d-e7d0-4538-9d5d-b76bfe1f31fa",
   "metadata": {},
   "outputs": [],
   "source": [
    "df.rename(columns={\"math score\":\"Math_score\",\n",
    "          \"reading score\":\"Reading_score\",\n",
    "          \"writing score\":\"Writing_score\"},inplace=True)"
   ]
  },
  {
   "cell_type": "code",
   "execution_count": 141,
   "id": "ae78ee9e-65c6-45bd-874f-f7253ecb6103",
   "metadata": {},
   "outputs": [
    {
     "name": "stdout",
     "output_type": "stream",
     "text": [
      "<class 'pandas.core.frame.DataFrame'>\n",
      "RangeIndex: 1000 entries, 0 to 999\n",
      "Data columns (total 8 columns):\n",
      " #   Column                   Non-Null Count  Dtype \n",
      "---  ------                   --------------  ----- \n",
      " 0   Gender                   1000 non-null   object\n",
      " 1   Group                    1000 non-null   object\n",
      " 2   Parents_education        1000 non-null   object\n",
      " 3   Lunch_type               1000 non-null   object\n",
      " 4   Test_preparation_course  1000 non-null   object\n",
      " 5   Math_score               1000 non-null   int64 \n",
      " 6   Reading_score            1000 non-null   int64 \n",
      " 7   Writing_score            1000 non-null   int64 \n",
      "dtypes: int64(3), object(5)\n",
      "memory usage: 62.6+ KB\n",
      "None\n"
     ]
    }
   ],
   "source": [
    "print(df.info())"
   ]
  },
  {
   "cell_type": "code",
   "execution_count": 142,
   "id": "b7245fac-dcca-4def-9938-bfb81c6dc1e2",
   "metadata": {},
   "outputs": [],
   "source": [
    "df.to_csv(\"StudentsPerformance_cleaned.csv\",index=False)"
   ]
  },
  {
   "cell_type": "code",
   "execution_count": null,
   "id": "c392aa94-e120-4754-ba69-de310073405c",
   "metadata": {},
   "outputs": [],
   "source": []
  }
 ],
 "metadata": {
  "kernelspec": {
   "display_name": "Python 3 (ipykernel)",
   "language": "python",
   "name": "python3"
  },
  "language_info": {
   "codemirror_mode": {
    "name": "ipython",
    "version": 3
   },
   "file_extension": ".py",
   "mimetype": "text/x-python",
   "name": "python",
   "nbconvert_exporter": "python",
   "pygments_lexer": "ipython3",
   "version": "3.13.0"
  }
 },
 "nbformat": 4,
 "nbformat_minor": 5
}
